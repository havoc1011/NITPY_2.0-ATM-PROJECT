{
  "nbformat": 4,
  "nbformat_minor": 0,
  "metadata": {
    "colab": {
      "provenance": [],
      "authorship_tag": "ABX9TyN7BV5eSb9GF30PD+wa9+/R",
      "include_colab_link": true
    },
    "kernelspec": {
      "name": "python3",
      "display_name": "Python 3"
    },
    "language_info": {
      "name": "python"
    }
  },
  "cells": [
    {
      "cell_type": "markdown",
      "metadata": {
        "id": "view-in-github",
        "colab_type": "text"
      },
      "source": [
        "<a href=\"https://colab.research.google.com/github/havoc1011/NITPY_2.0-ATM-PROJECT/blob/main/NITPY_2_0_MINE.ipynb\" target=\"_parent\"><img src=\"https://colab.research.google.com/assets/colab-badge.svg\" alt=\"Open In Colab\"/></a>"
      ]
    },
    {
      "cell_type": "code",
      "execution_count": null,
      "metadata": {
        "colab": {
          "base_uri": "https://localhost:8080/"
        },
        "id": "2t5jzeBY3ZTv",
        "outputId": "1db09f40-a914-4ed6-978c-3e8af8a74221"
      },
      "outputs": [
        {
          "output_type": "stream",
          "name": "stdout",
          "text": [
            "Welcome To Nitpy 2.0 Grp1 Atm Stand\n",
            "Enter Your 4 Digit Pin1234\n",
            "What Do You Want to do\n",
            "1.Withdraw   2.Mini Statement\n",
            "3.Transfer   4.Check Balance\n",
            "5.Deposit    6.Change Pin\n",
            "7.Pay Bills  8.Exit\n",
            "6\n",
            "Enter Previous Pin\n",
            "1234\n",
            "Enter New Pin\n",
            "2345\n",
            "Your Pin Has Been Successfully Changed\n"
          ]
        }
      ],
      "source": [
        "print(\"\\nWelcome To NITPY 2.0 Group_1 ATM Stand\\n\")\n",
        "name = input(\"Enter Your Name: \")\n",
        "print(f'Welcome {name}')\n",
        "card = input(\"insert card (Y/N): \").lower()\n",
        "E = \"Thank You For Using Our ATM\"\n",
        "balance  = 1000000\n",
        "if card == \"y\":\n",
        "    print(\"\\nCard Inserted\")\n",
        "    pin = int(input(\"Enter Your 4-Digit Pin: \"))\n",
        "    if pin == 1234:\n",
        "     print(\"\\n1 → Check Balance     2 → Withdraw Cash\\n3 → Deposit Cash      4 → Transfer Funds\\n5 → Pay Bills         6 → Change PIN\\n             7 → EXIT\")\n",
        "     menu = int(input(\"\\nEnter Your Menu: \"))\n",
        "\n",
        "     if menu == 1:\n",
        "      print(f\"\\nChecking Balance.....\\nYour Balance Is ₦{balance}\")\n",
        "      print(E)\n",
        "\n",
        "     elif menu == 2:\n",
        "      print(\"\\nEnter Amount To Withdraw\")\n",
        "      amount = int(input(\"Enter Amount: \"))\n",
        "      if amount > balance:\n",
        "          print(\"INSUFFICIENT BALANCE\")\n",
        "          print(E)\n",
        "      else:\n",
        "          balance = balance - amount\n",
        "          print(\"Withdrawal Successful\")\n",
        "          print(f\"Your New Balance Is ₦{balance}\")\n",
        "          print(E)\n",
        "\n",
        "     elif menu == 3:\n",
        "        print(\"\\nEnter Amount To Deposit\")\n",
        "        amount = int(input(\"Enter Amount: \"))\n",
        "        balance = balance + amount\n",
        "        print(\"Deposit Successful\")\n",
        "        print(f\"Your New Balance Is ₦{balance}\")\n",
        "        print(E)\n",
        "\n",
        "     elif menu == 4:\n",
        "        receiver_account = int(input(\"\\nEnter Receiver's Account number: \"))\n",
        "        receiver_name = input(\"Enter Receiver's Bank Name: \")\n",
        "        amount = int(input(\"Enter Amount: \"))\n",
        "        int(input(\"\\nEnter Receiver's Account Type: \\n1 → Savings     \\n2 → Current     \\n3 → Not Sure\\n\"))\n",
        "        if amount > balance:\n",
        "          print(\"INSUFFICIENT BALANCE\")\n",
        "        else:\n",
        "          balance = balance - amount\n",
        "          print(\"Transfer Successful\")\n",
        "          print(f\"Your New Balance Is ₦{balance}\")\n",
        "          print(E)\n",
        "\n",
        "     elif menu == 5:\n",
        "        print(\"\\nBill Type\")\n",
        "        int(input(\"1 → School Fees  2 → Electricity \\n3 → Cable TV     4 → Internet Services\\n\"))\n",
        "        amount = int(input(\"Enter amount: \"))\n",
        "        if amount > balance:\n",
        "          print(\"INSUFFICIENT BALANCE\")\n",
        "        else:\n",
        "          balance = balance - amount\n",
        "          print(\"Payment Successful\")\n",
        "          print(f\"Your New Balance Is ₦{balance}\")\n",
        "          print(E)\n",
        "\n",
        "     elif menu == 6:\n",
        "        pin1 = int(input(\"\\nEnter Your PIN: \"))\n",
        "        if pin1 == pin:\n",
        "         new_pin = int(input(\"Enter New PIN: \"))\n",
        "         if new_pin == pin:\n",
        "          print(\"New PIN Cannot Be The Same As Old PIN\")\n",
        "         else:\n",
        "          print(\"PIN Successfully Changed \")\n",
        "          print(E)\n",
        "\n",
        "        else:\n",
        "         print(\"INVALID PIN\")\n",
        "\n",
        "     elif menu == 7:\n",
        "        print(E)\n",
        "    else:\n",
        "     print(\"INVALID PIN\")\n",
        "else:\n",
        "    print(\"CARD NOT INSERTED\")"
      ]
    },
    {
      "cell_type": "code",
      "source": [
        "print(\"\\nWelcome To NITPY 2.0 Group_1 ATM Stand\\n\")\n",
        "name = input(\"Enter Your Name: \")\n",
        "print(f'Welcome {name}')\n",
        "card = input(\"insert card (Y/N): \").lower()\n",
        "E = \"Thank You For Using Our ATM\"\n",
        "balance  = 1000000\n",
        "if card == \"y\":\n",
        "    print(\"\\nCard Inserted\")\n",
        "    pin = int(input(\"Enter Your 4-Digit Pin: \"))\n",
        "    if pin == 1234:\n",
        "     print(\"\\n1 → Check Balance     2 → Withdraw Cash\\n3 → Deposit Cash      4 → EXIT\")\n",
        "     menu = int(input(\"\\nEnter Your Menu: \"))\n",
        "\n",
        "     if menu == 1:\n",
        "      print(f\"\\nChecking Balance.....\\nYour Balance Is ₦{balance}\")\n",
        "      print(E)\n",
        "\n",
        "     elif menu == 2:\n",
        "      print(\"\\nEnter Amount To Withdraw\")\n",
        "      amount = int(input(\"Enter Amount: \"))\n",
        "      if amount > balance:\n",
        "          print(\"INSUFFICIENT BALANCE\")\n",
        "          print(E)\n",
        "      else:\n",
        "          balance = balance - amount\n",
        "          print(\"\\nWithdrawal Successful\")\n",
        "          print(f\"Your New Balance Is ₦{balance}\")\n",
        "          print(E)\n",
        "\n",
        "     elif menu == 3:\n",
        "        print(\"\\nEnter Amount To Deposit\")\n",
        "        amount = int(input(\"Enter Amount: \"))\n",
        "        balance = balance + amount\n",
        "        print(\"Deposit Successful\")\n",
        "        print(f\"Your New Balance Is ₦{balance}\")\n",
        "        print(E)\n",
        "\n",
        "     elif menu == 4:\n",
        "        print(E)\n",
        "    else:\n",
        "     print(\"INVALID PIN\")\n",
        "else:\n",
        "    print(\"CARD NOT INSERTED\")"
      ],
      "metadata": {
        "id": "ajVpR1ADCWmC"
      },
      "execution_count": null,
      "outputs": []
    }
  ]
}